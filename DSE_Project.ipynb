{
 "cells": [
  {
   "cell_type": "code",
   "execution_count": 1,
   "metadata": {},
   "outputs": [],
   "source": [
    "import pandas as pd\n",
    "import numpy as np"
   ]
  },
  {
   "cell_type": "code",
   "execution_count": 16,
   "id": "2efcd00a",
   "metadata": {},
   "outputs": [],
   "source": [
    "data=pd.read_csv(\"wordstat_dynamic\",delimiter=';')\n",
    "data_translate = pd.DataFrame()\n",
    "\n",
    "month_mapping = {\n",
    "    'январь': \"January\",\n",
    "    'февраль': \"February\",\n",
    "    'март': \"March\",\n",
    "    'апрель': \"April\",\n",
    "    'май': \"May\",\n",
    "    'июнь': \"June\",\n",
    "    'июль': \"July\",\n",
    "    'август': \"August\",\n",
    "    'сентябрь': \"September\",\n",
    "    'октябрь': \"October\",\n",
    "    'ноябрь': \"November\",\n",
    "    'декабрь': \"December\"\n",
    "}\n",
    "\n",
    "\n",
    "def convert_date(date_str):\n",
    "    month_str, year_str = date_str.split() \n",
    "    month_num = month_mapping[month_str]                     \n",
    "    return month_num + \" \" + year_str\n",
    "\n",
    "def convert_number(date_str):\n",
    "    n1, n2 = date_str.split(\",\")\n",
    "    return '.'.join([n1, n2])\n",
    "\n",
    "def convert_int(date_str):\n",
    "    date_str = date_str.replace(' ', '')\n",
    "    return date_str\n",
    "\n",
    "data_translate['Date'] = data['Период'].apply(convert_date)\n",
    "data_translate['ABS_Value'] = data['Число запросов'].apply(convert_int)\n",
    "data_translate['Freq'] = data['Доля от всех запросов, %'].apply(convert_number)"
   ]
  },
  {
   "cell_type": "code",
   "execution_count": 17,
   "id": "a015a086",
   "metadata": {},
   "outputs": [],
   "source": [
    "data_translate.to_csv(\"Data_Translated\", sep=';', encoding='utf-8', index=False, header=True)"
   ]
  },
  {
   "cell_type": "code",
   "execution_count": null,
   "id": "11d1af9e",
   "metadata": {},
   "outputs": [],
   "source": []
  }
 ],
 "metadata": {
  "kernelspec": {
   "display_name": "Python 3",
   "language": "python",
   "name": "python3"
  },
  "language_info": {
   "codemirror_mode": {
    "name": "ipython",
    "version": 3
   },
   "file_extension": ".py",
   "mimetype": "text/x-python",
   "name": "python",
   "nbconvert_exporter": "python",
   "pygments_lexer": "ipython3",
   "version": "3.11.6"
  }
 },
 "nbformat": 4,
 "nbformat_minor": 5
}
