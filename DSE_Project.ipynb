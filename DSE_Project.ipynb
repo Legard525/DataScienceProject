{
 "cells": [
  {
   "cell_type": "code",
   "execution_count": 1,
   "metadata": {},
   "outputs": [],
   "source": [
    "import pandas as pd\n",
    "import numpy as np"
   ]
  },
  {
   "cell_type": "code",
   "execution_count": 8,
   "id": "2efcd00a",
   "metadata": {},
   "outputs": [],
   "source": [
    "data=pd.read_csv(\"wordstat_dynamic\",delimiter=';')\n",
    "data_translate = pd.DataFrame()\n",
    "\n",
    "month_mapping = {\n",
    "    'январь': \"January\",\n",
    "    'февраль': \"February\",\n",
    "    'март': \"March\",\n",
    "    'апрель': \"April\",\n",
    "    'май': \"May\",\n",
    "    'июнь': \"June\",\n",
    "    'июль': \"July\",\n",
    "    'август': \"August\",\n",
    "    'сентябрь': \"September\",\n",
    "    'октябрь': \"October\",\n",
    "    'ноябрь': \"November\",\n",
    "    'декабрь': \"December\"\n",
    "}\n",
    "\n",
    "\n",
    "def convert_date(date_str):\n",
    "    month_str, year_str = date_str.split() \n",
    "    month_num = month_mapping[month_str]                     \n",
    "    return month_num + \" \" + year_str\n",
    "\n",
    "\n",
    "data_translate['Date'] = data['Период'].apply(convert_date)\n",
    "data_translate['ABS_Value'] = data['Число запросов']\n",
    "data_translate['Freq'] = data['Доля от всех запросов, %']"
   ]
  },
  {
   "cell_type": "code",
   "execution_count": 11,
   "id": "a015a086",
   "metadata": {},
   "outputs": [],
   "source": [
    "data_translate.to_csv(\"Data_Translated\", sep=';', encoding='utf-8', index=False, header=True)"
   ]
  },
  {
   "cell_type": "code",
   "execution_count": null,
   "id": "11d1af9e",
   "metadata": {},
   "outputs": [],
   "source": []
  }
 ],
 "metadata": {
  "kernelspec": {
   "display_name": "Python 3",
   "language": "python",
   "name": "python3"
  },
  "language_info": {
   "codemirror_mode": {
    "name": "ipython",
    "version": 3
   },
   "file_extension": ".py",
   "mimetype": "text/x-python",
   "name": "python",
   "nbconvert_exporter": "python",
   "pygments_lexer": "ipython3",
   "version": "3.11.6"
  }
 },
 "nbformat": 4,
 "nbformat_minor": 5
}
