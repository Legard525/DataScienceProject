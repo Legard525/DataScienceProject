{
 "cells": [
  {
   "cell_type": "code",
   "execution_count": 3,
   "metadata": {},
   "outputs": [],
   "source": [
    "import numpy as np\n",
    "import pandas as pd"
   ]
  },
  {
   "cell_type": "code",
   "execution_count": 17,
   "metadata": {},
   "outputs": [
    {
     "data": {
      "text/html": [
       "<div>\n",
       "<style scoped>\n",
       "    .dataframe tbody tr th:only-of-type {\n",
       "        vertical-align: middle;\n",
       "    }\n",
       "\n",
       "    .dataframe tbody tr th {\n",
       "        vertical-align: top;\n",
       "    }\n",
       "\n",
       "    .dataframe thead th {\n",
       "        text-align: right;\n",
       "    }\n",
       "</style>\n",
       "<table border=\"1\" class=\"dataframe\">\n",
       "  <thead>\n",
       "    <tr style=\"text-align: right;\">\n",
       "      <th></th>\n",
       "      <th>Date</th>\n",
       "      <th>ABS_Value</th>\n",
       "      <th>Freq</th>\n",
       "    </tr>\n",
       "  </thead>\n",
       "  <tbody>\n",
       "    <tr>\n",
       "      <th>0</th>\n",
       "      <td>January 2020</td>\n",
       "      <td>2858305</td>\n",
       "      <td>0.029</td>\n",
       "    </tr>\n",
       "    <tr>\n",
       "      <th>1</th>\n",
       "      <td>February 2020</td>\n",
       "      <td>3123016</td>\n",
       "      <td>0.034</td>\n",
       "    </tr>\n",
       "    <tr>\n",
       "      <th>2</th>\n",
       "      <td>March 2020</td>\n",
       "      <td>2732543</td>\n",
       "      <td>0.027</td>\n",
       "    </tr>\n",
       "    <tr>\n",
       "      <th>3</th>\n",
       "      <td>April 2020</td>\n",
       "      <td>2890361</td>\n",
       "      <td>0.024</td>\n",
       "    </tr>\n",
       "    <tr>\n",
       "      <th>4</th>\n",
       "      <td>May 2020</td>\n",
       "      <td>3045768</td>\n",
       "      <td>0.028</td>\n",
       "    </tr>\n",
       "  </tbody>\n",
       "</table>\n",
       "</div>"
      ],
      "text/plain": [
       "            Date  ABS_Value   Freq\n",
       "0   January 2020    2858305  0.029\n",
       "1  February 2020    3123016  0.034\n",
       "2     March 2020    2732543  0.027\n",
       "3     April 2020    2890361  0.024\n",
       "4       May 2020    3045768  0.028"
      ]
     },
     "execution_count": 17,
     "metadata": {},
     "output_type": "execute_result"
    }
   ],
   "source": [
    "from sktime.utils.plotting import plot_series\n",
    "\n",
    "df = pd.read_csv('Data_Translated', sep=';')\n",
    "df.head()"
   ]
  },
  {
   "cell_type": "code",
   "execution_count": 29,
   "metadata": {},
   "outputs": [],
   "source": [
    "abs_series = df['ABS_Value']\n",
    "freq_series = df.set_index('Date')['Freq']"
   ]
  },
  {
   "cell_type": "code",
   "execution_count": 30,
   "metadata": {},
   "outputs": [
    {
     "data": {
      "text/plain": [
       "0     2858305\n",
       "1     3123016\n",
       "2     2732543\n",
       "3     2890361\n",
       "4     3045768\n",
       "5     3143364\n",
       "6     3168150\n",
       "7     3126036\n",
       "8     2603769\n",
       "9     2866839\n",
       "10    2993198\n",
       "11    2800046\n",
       "12    2941559\n",
       "13    3284008\n",
       "14    2982067\n",
       "15    3041338\n",
       "16    3289357\n",
       "17    3601957\n",
       "18    3792641\n",
       "19    3798891\n",
       "20    2902082\n",
       "21    3032415\n",
       "22    2957590\n",
       "23    3123301\n",
       "24    3281616\n",
       "25    3415598\n",
       "26    3239976\n",
       "27    3421123\n",
       "28    3807519\n",
       "29    4001311\n",
       "30    4238667\n",
       "31    4373112\n",
       "32    3112849\n",
       "33    3554374\n",
       "34    3388061\n",
       "35    3400052\n",
       "36    3361809\n",
       "37    3519616\n",
       "38    3628094\n",
       "39    3600756\n",
       "40    3849818\n",
       "41    4037429\n",
       "42    4166614\n",
       "43    4165618\n",
       "44    3317211\n",
       "45    3322211\n",
       "46    3209079\n",
       "47    3282721\n",
       "48    3454115\n",
       "Name: ABS_Value, dtype: int64"
      ]
     },
     "execution_count": 30,
     "metadata": {},
     "output_type": "execute_result"
    }
   ],
   "source": [
    "abs_series"
   ]
  },
  {
   "cell_type": "code",
   "execution_count": 23,
   "metadata": {},
   "outputs": [
    {
     "ename": "NotImplementedError",
     "evalue": "<class 'pandas.core.indexes.base.Index'> is not supported for input, use one of (<class 'pandas.core.indexes.range.RangeIndex'>, <class 'pandas.core.indexes.period.PeriodIndex'>, <class 'pandas.core.indexes.datetimes.DatetimeIndex'>, <class 'pandas.core.indexes.timedeltas.TimedeltaIndex'>) instead.",
     "output_type": "error",
     "traceback": [
      "\u001b[1;31m---------------------------------------------------------------------------\u001b[0m",
      "\u001b[1;31mNotImplementedError\u001b[0m                       Traceback (most recent call last)",
      "Cell \u001b[1;32mIn[23], line 1\u001b[0m\n\u001b[1;32m----> 1\u001b[0m \u001b[43mplot_series\u001b[49m\u001b[43m(\u001b[49m\u001b[43mfreq_series\u001b[49m\u001b[43m)\u001b[49m\n",
      "File \u001b[1;32mc:\\Users\\Леша\\AppData\\Local\\Programs\\Python\\Python311\\Lib\\site-packages\\sktime\\utils\\plotting.py:87\u001b[0m, in \u001b[0;36mplot_series\u001b[1;34m(labels, markers, colors, title, x_label, y_label, ax, pred_interval, *series)\u001b[0m\n\u001b[0;32m     84\u001b[0m \u001b[38;5;28;01mfrom\u001b[39;00m \u001b[38;5;21;01msktime\u001b[39;00m\u001b[38;5;21;01m.\u001b[39;00m\u001b[38;5;21;01mutils\u001b[39;00m\u001b[38;5;21;01m.\u001b[39;00m\u001b[38;5;21;01mvalidation\u001b[39;00m\u001b[38;5;21;01m.\u001b[39;00m\u001b[38;5;21;01mseries\u001b[39;00m \u001b[38;5;28;01mimport\u001b[39;00m check_consistent_index_type\n\u001b[0;32m     86\u001b[0m \u001b[38;5;28;01mfor\u001b[39;00m y \u001b[38;5;129;01min\u001b[39;00m series:\n\u001b[1;32m---> 87\u001b[0m     \u001b[43mcheck_y\u001b[49m\u001b[43m(\u001b[49m\u001b[43my\u001b[49m\u001b[43m)\u001b[49m\n\u001b[0;32m     89\u001b[0m l_series \u001b[38;5;241m=\u001b[39m \u001b[38;5;28mlist\u001b[39m(series)\n\u001b[0;32m     90\u001b[0m l_series \u001b[38;5;241m=\u001b[39m [convert_to(y, \u001b[38;5;124m\"\u001b[39m\u001b[38;5;124mpd.Series\u001b[39m\u001b[38;5;124m\"\u001b[39m, \u001b[38;5;124m\"\u001b[39m\u001b[38;5;124mSeries\u001b[39m\u001b[38;5;124m\"\u001b[39m) \u001b[38;5;28;01mfor\u001b[39;00m y \u001b[38;5;129;01min\u001b[39;00m l_series]\n",
      "File \u001b[1;32mc:\\Users\\Леша\\AppData\\Local\\Programs\\Python\\Python311\\Lib\\site-packages\\sktime\\utils\\validation\\forecasting.py:142\u001b[0m, in \u001b[0;36mcheck_y\u001b[1;34m(y, allow_empty, allow_constant, enforce_index_type)\u001b[0m\n\u001b[0;32m    120\u001b[0m \u001b[38;5;28;01mdef\u001b[39;00m \u001b[38;5;21mcheck_y\u001b[39m(y, allow_empty\u001b[38;5;241m=\u001b[39m\u001b[38;5;28;01mFalse\u001b[39;00m, allow_constant\u001b[38;5;241m=\u001b[39m\u001b[38;5;28;01mTrue\u001b[39;00m, enforce_index_type\u001b[38;5;241m=\u001b[39m\u001b[38;5;28;01mNone\u001b[39;00m):\n\u001b[0;32m    121\u001b[0m \u001b[38;5;250m    \u001b[39m\u001b[38;5;124;03m\"\"\"Validate input data.\u001b[39;00m\n\u001b[0;32m    122\u001b[0m \n\u001b[0;32m    123\u001b[0m \u001b[38;5;124;03m    Parameters\u001b[39;00m\n\u001b[1;32m   (...)\u001b[0m\n\u001b[0;32m    140\u001b[0m \u001b[38;5;124;03m        If y is an invalid input\u001b[39;00m\n\u001b[0;32m    141\u001b[0m \u001b[38;5;124;03m    \"\"\"\u001b[39;00m\n\u001b[1;32m--> 142\u001b[0m     y \u001b[38;5;241m=\u001b[39m \u001b[43mcheck_series\u001b[49m\u001b[43m(\u001b[49m\n\u001b[0;32m    143\u001b[0m \u001b[43m        \u001b[49m\u001b[43my\u001b[49m\u001b[43m,\u001b[49m\n\u001b[0;32m    144\u001b[0m \u001b[43m        \u001b[49m\u001b[43menforce_univariate\u001b[49m\u001b[38;5;241;43m=\u001b[39;49m\u001b[38;5;28;43;01mTrue\u001b[39;49;00m\u001b[43m,\u001b[49m\n\u001b[0;32m    145\u001b[0m \u001b[43m        \u001b[49m\u001b[43mallow_empty\u001b[49m\u001b[38;5;241;43m=\u001b[39;49m\u001b[43mallow_empty\u001b[49m\u001b[43m,\u001b[49m\n\u001b[0;32m    146\u001b[0m \u001b[43m        \u001b[49m\u001b[43mallow_numpy\u001b[49m\u001b[38;5;241;43m=\u001b[39;49m\u001b[38;5;28;43;01mFalse\u001b[39;49;00m\u001b[43m,\u001b[49m\n\u001b[0;32m    147\u001b[0m \u001b[43m        \u001b[49m\u001b[43menforce_index_type\u001b[49m\u001b[38;5;241;43m=\u001b[39;49m\u001b[43menforce_index_type\u001b[49m\u001b[43m,\u001b[49m\n\u001b[0;32m    148\u001b[0m \u001b[43m    \u001b[49m\u001b[43m)\u001b[49m\n\u001b[0;32m    150\u001b[0m     \u001b[38;5;28;01mif\u001b[39;00m \u001b[38;5;129;01mnot\u001b[39;00m allow_constant:\n\u001b[0;32m    151\u001b[0m         \u001b[38;5;28;01mif\u001b[39;00m np\u001b[38;5;241m.\u001b[39mall(y \u001b[38;5;241m==\u001b[39m y\u001b[38;5;241m.\u001b[39miloc[\u001b[38;5;241m0\u001b[39m]):\n",
      "File \u001b[1;32mc:\\Users\\Леша\\AppData\\Local\\Programs\\Python\\Python311\\Lib\\site-packages\\sktime\\utils\\validation\\series.py:161\u001b[0m, in \u001b[0;36mcheck_series\u001b[1;34m(Z, enforce_univariate, enforce_multivariate, allow_empty, allow_numpy, allow_None, enforce_index_type, allow_index_names, var_name)\u001b[0m\n\u001b[0;32m    159\u001b[0m \u001b[38;5;66;03m# check time index if input data is not an NumPy ndarray\u001b[39;00m\n\u001b[0;32m    160\u001b[0m \u001b[38;5;28;01mif\u001b[39;00m \u001b[38;5;129;01mnot\u001b[39;00m \u001b[38;5;28misinstance\u001b[39m(Z, np\u001b[38;5;241m.\u001b[39mndarray):\n\u001b[1;32m--> 161\u001b[0m     \u001b[43mcheck_time_index\u001b[49m\u001b[43m(\u001b[49m\n\u001b[0;32m    162\u001b[0m \u001b[43m        \u001b[49m\u001b[43mZ\u001b[49m\u001b[38;5;241;43m.\u001b[39;49m\u001b[43mindex\u001b[49m\u001b[43m,\u001b[49m\n\u001b[0;32m    163\u001b[0m \u001b[43m        \u001b[49m\u001b[43mallow_empty\u001b[49m\u001b[38;5;241;43m=\u001b[39;49m\u001b[43mallow_empty\u001b[49m\u001b[43m,\u001b[49m\n\u001b[0;32m    164\u001b[0m \u001b[43m        \u001b[49m\u001b[43menforce_index_type\u001b[49m\u001b[38;5;241;43m=\u001b[39;49m\u001b[43menforce_index_type\u001b[49m\u001b[43m,\u001b[49m\n\u001b[0;32m    165\u001b[0m \u001b[43m        \u001b[49m\u001b[43mvar_name\u001b[49m\u001b[38;5;241;43m=\u001b[39;49m\u001b[43mvar_name\u001b[49m\u001b[43m,\u001b[49m\n\u001b[0;32m    166\u001b[0m \u001b[43m    \u001b[49m\u001b[43m)\u001b[49m\n\u001b[0;32m    168\u001b[0m \u001b[38;5;28;01mif\u001b[39;00m \u001b[38;5;129;01mnot\u001b[39;00m allow_index_names \u001b[38;5;129;01mand\u001b[39;00m \u001b[38;5;129;01mnot\u001b[39;00m \u001b[38;5;28misinstance\u001b[39m(Z, np\u001b[38;5;241m.\u001b[39mndarray):\n\u001b[0;32m    169\u001b[0m     Z\u001b[38;5;241m.\u001b[39mindex\u001b[38;5;241m.\u001b[39mnames \u001b[38;5;241m=\u001b[39m [\u001b[38;5;28;01mNone\u001b[39;00m \u001b[38;5;28;01mfor\u001b[39;00m name \u001b[38;5;129;01min\u001b[39;00m Z\u001b[38;5;241m.\u001b[39mindex\u001b[38;5;241m.\u001b[39mnames]\n",
      "File \u001b[1;32mc:\\Users\\Леша\\AppData\\Local\\Programs\\Python\\Python311\\Lib\\site-packages\\sktime\\utils\\validation\\series.py:203\u001b[0m, in \u001b[0;36mcheck_time_index\u001b[1;34m(index, allow_empty, enforce_index_type, var_name)\u001b[0m\n\u001b[0;32m    200\u001b[0m \u001b[38;5;66;03m# We here check for type equality because isinstance does not\u001b[39;00m\n\u001b[0;32m    201\u001b[0m \u001b[38;5;66;03m# work reliably because index types inherit from each other.\u001b[39;00m\n\u001b[0;32m    202\u001b[0m \u001b[38;5;28;01mif\u001b[39;00m \u001b[38;5;129;01mnot\u001b[39;00m is_in_valid_index_types(index):\n\u001b[1;32m--> 203\u001b[0m     \u001b[38;5;28;01mraise\u001b[39;00m \u001b[38;5;167;01mNotImplementedError\u001b[39;00m(\n\u001b[0;32m    204\u001b[0m         \u001b[38;5;124mf\u001b[39m\u001b[38;5;124m\"\u001b[39m\u001b[38;5;132;01m{\u001b[39;00m\u001b[38;5;28mtype\u001b[39m(index)\u001b[38;5;132;01m}\u001b[39;00m\u001b[38;5;124m is not supported for \u001b[39m\u001b[38;5;132;01m{\u001b[39;00mvar_name\u001b[38;5;132;01m}\u001b[39;00m\u001b[38;5;124m, use \u001b[39m\u001b[38;5;124m\"\u001b[39m\n\u001b[0;32m    205\u001b[0m         \u001b[38;5;124mf\u001b[39m\u001b[38;5;124m\"\u001b[39m\u001b[38;5;124mone of \u001b[39m\u001b[38;5;132;01m{\u001b[39;00mVALID_INDEX_TYPES\u001b[38;5;132;01m}\u001b[39;00m\u001b[38;5;124m instead.\u001b[39m\u001b[38;5;124m\"\u001b[39m\n\u001b[0;32m    206\u001b[0m     )\n\u001b[0;32m    208\u001b[0m \u001b[38;5;28;01mif\u001b[39;00m enforce_index_type \u001b[38;5;129;01mand\u001b[39;00m \u001b[38;5;28mtype\u001b[39m(index) \u001b[38;5;129;01mis\u001b[39;00m \u001b[38;5;129;01mnot\u001b[39;00m enforce_index_type:\n\u001b[0;32m    209\u001b[0m     \u001b[38;5;28;01mraise\u001b[39;00m \u001b[38;5;167;01mNotImplementedError\u001b[39;00m(\n\u001b[0;32m    210\u001b[0m         \u001b[38;5;124mf\u001b[39m\u001b[38;5;124m\"\u001b[39m\u001b[38;5;132;01m{\u001b[39;00m\u001b[38;5;28mtype\u001b[39m(index)\u001b[38;5;132;01m}\u001b[39;00m\u001b[38;5;124m is not supported for \u001b[39m\u001b[38;5;132;01m{\u001b[39;00mvar_name\u001b[38;5;132;01m}\u001b[39;00m\u001b[38;5;124m, use \u001b[39m\u001b[38;5;124m\"\u001b[39m\n\u001b[0;32m    211\u001b[0m         \u001b[38;5;124mf\u001b[39m\u001b[38;5;124m\"\u001b[39m\u001b[38;5;124mtype: \u001b[39m\u001b[38;5;132;01m{\u001b[39;00menforce_index_type\u001b[38;5;132;01m}\u001b[39;00m\u001b[38;5;124m or integer pd.Index instead.\u001b[39m\u001b[38;5;124m\"\u001b[39m\n\u001b[0;32m    212\u001b[0m     )\n",
      "\u001b[1;31mNotImplementedError\u001b[0m: <class 'pandas.core.indexes.base.Index'> is not supported for input, use one of (<class 'pandas.core.indexes.range.RangeIndex'>, <class 'pandas.core.indexes.period.PeriodIndex'>, <class 'pandas.core.indexes.datetimes.DatetimeIndex'>, <class 'pandas.core.indexes.timedeltas.TimedeltaIndex'>) instead."
     ]
    }
   ],
   "source": [
    "plot_series(freq_series)"
   ]
  }
 ],
 "metadata": {
  "kernelspec": {
   "display_name": "Python 3",
   "language": "python",
   "name": "python3"
  },
  "language_info": {
   "codemirror_mode": {
    "name": "ipython",
    "version": 3
   },
   "file_extension": ".py",
   "mimetype": "text/x-python",
   "name": "python",
   "nbconvert_exporter": "python",
   "pygments_lexer": "ipython3",
   "version": "3.11.6"
  }
 },
 "nbformat": 4,
 "nbformat_minor": 2
}
